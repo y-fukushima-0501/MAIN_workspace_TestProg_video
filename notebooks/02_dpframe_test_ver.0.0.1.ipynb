{
    "cells": [
        {
            "cell_type": "code",
            "metadata": {
                "language": "python"
            },
            "source": [
                "# This notebook is for experiments and analysis related to video stutter detection.\n",
                "\n",
                "# Import necessary libraries\n",
                "import cv2\n",
                "import numpy as np\n",
                "import matplotlib.pyplot as plt\n",
                "\n",
                "# Define functions for video processing and stutter detection\n",
                "\n",
                "def load_video(video_path):\n",
                "    cap = cv2.VideoCapture(video_path)\n",
                "    return cap\n",
                "\n",
                "def detect_stutter(frames, threshold=5):\n",
                "    stutter_frames = []\n",
                "    for i in range(1, len(frames)):\n",
                "        if abs(frames[i] - frames[i-1]) > threshold:\n",
                "            stutter_frames.append(i)\n",
                "    return stutter_frames\n",
                "\n",
                "# Example usage\n",
                "video_path = 'path_to_video.mp4'\n",
                "cap = load_video(video_path)\n",
                "frames = []\n",
                "while cap.isOpened():\n",
                "    ret, frame = cap.read()\n",
                "    if not ret:\n",
                "        break\n",
                "    frames.append(frame)\n",
                "cap.release()\n",
                "\n",
                "# Detect stutter\n",
                "stutter_frames = detect_stutter(frames)\n",
                "print(f'Stutter detected at frames: {stutter_frames}')\n",
                "\n",
                "# Visualize results\n",
                "plt.figure(figsize=(10, 5))\n",
                "plt.plot(frames)\n",
                "plt.scatter(stutter_frames, [frames[i] for i in stutter_frames], color='red')\n",
                "plt.title('Video Frames with Stutter Detection')\n",
                "plt.xlabel('Frame Number')\n",
                "plt.ylabel('Frame Value')\n",
                "plt.show()"
            ]
        }
    ]
}