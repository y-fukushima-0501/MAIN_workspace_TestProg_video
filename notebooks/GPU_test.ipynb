{
 "cells": [
  {
   "cell_type": "markdown",
   "id": "4209838e",
   "metadata": {},
   "source": [
    "# ===============================================\n",
    "# Video Stutter Detection Notebook\n",
    "# このノートブックはGPU動作実験用です\n",
    "# 実行環境（カーネル）はTestProg_video（Python 3.8.19）で行ってください\n",
    "# ==============================================="
   ]
  },
  {
   "cell_type": "code",
   "execution_count": 1,
   "id": "e3beee44",
   "metadata": {},
   "outputs": [
    {
     "ename": "ModuleNotFoundError",
     "evalue": "No module named 'cupy'",
     "output_type": "error",
     "traceback": [
      "\u001b[31m---------------------------------------------------------------------------\u001b[39m",
      "\u001b[31mModuleNotFoundError\u001b[39m                       Traceback (most recent call last)",
      "\u001b[36mCell\u001b[39m\u001b[36m \u001b[39m\u001b[32mIn[1]\u001b[39m\u001b[32m, line 1\u001b[39m\n\u001b[32m----> \u001b[39m\u001b[32m1\u001b[39m \u001b[38;5;28;01mimport\u001b[39;00m\u001b[38;5;250m \u001b[39m\u001b[34;01mcupy\u001b[39;00m\u001b[38;5;250m \u001b[39m\u001b[38;5;28;01mas\u001b[39;00m\u001b[38;5;250m \u001b[39m\u001b[34;01mcp\u001b[39;00m\n\u001b[32m      2\u001b[39m x = cp.arange(\u001b[32m10\u001b[39m)\n\u001b[32m      3\u001b[39m \u001b[38;5;28mprint\u001b[39m(x)\n",
      "\u001b[31mModuleNotFoundError\u001b[39m: No module named 'cupy'"
     ]
    }
   ],
   "source": [
    "import cupy as cp\n",
    "x = cp.arange(10)\n",
    "print(x)\n",
    "print(\"GPUが使えています:\", cp.cuda.runtime.getDeviceCount() > 0)"
   ]
  }
 ],
 "metadata": {
  "kernelspec": {
   "display_name": "TSTVIDEO_Prog",
   "language": "python",
   "name": "python3"
  },
  "language_info": {
   "codemirror_mode": {
    "name": "ipython",
    "version": 3
   },
   "file_extension": ".py",
   "mimetype": "text/x-python",
   "name": "python",
   "nbconvert_exporter": "python",
   "pygments_lexer": "ipython3",
   "version": "3.12.11"
  }
 },
 "nbformat": 4,
 "nbformat_minor": 5
}
