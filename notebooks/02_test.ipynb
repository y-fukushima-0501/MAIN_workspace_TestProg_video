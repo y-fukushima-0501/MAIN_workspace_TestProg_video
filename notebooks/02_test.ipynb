{
 "cells": [
  {
   "cell_type": "markdown",
   "id": "9fc38919",
   "metadata": {},
   "source": [
    "# ===============================================\n",
    "# Video Stutter Detection Notebook\n",
    "# このノートブックは簡易実験用です\n",
    "# 実行環境（カーネル）はTestProg_video（Python 3.8.19）で行ってください\n",
    "# ==============================================="
   ]
  },
  {
   "cell_type": "code",
   "execution_count": 1,
   "id": "10de32b3",
   "metadata": {},
   "outputs": [
    {
     "name": "stdout",
     "output_type": "stream",
     "text": [
      "要求: 1920x1080 @ 15fps → 実際: 1920x1080 @ 15fps\n",
      "要求: 1920x1080 @ 30fps → 実際: 1920x1080 @ 30fps\n",
      "要求: 1920x1080 @ 60fps → 実際: 1920x1080 @ 60fps\n",
      "要求: 1920x1080 @ 120fps → 実際: 1920x1080 @ 60fps\n",
      "要求: 1280x720 @ 15fps → 実際: 1280x720 @ 15fps\n",
      "要求: 1280x720 @ 30fps → 実際: 1280x720 @ 30fps\n",
      "要求: 1280x720 @ 60fps → 実際: 1280x720 @ 60fps\n",
      "要求: 1280x720 @ 120fps → 実際: 1280x720 @ 60fps\n",
      "要求: 640x480 @ 15fps → 実際: 720x480 @ 15fps\n",
      "要求: 640x480 @ 30fps → 実際: 640x480 @ 30fps\n",
      "要求: 640x480 @ 60fps → 実際: 640x480 @ 60fps\n",
      "要求: 640x480 @ 120fps → 実際: 640x480 @ 60fps\n"
     ]
    }
   ],
   "source": [
    "import cv2\n",
    "\n",
    "def list_camera_modes(device_index=0):\n",
    "    cap = cv2.VideoCapture(device_index, cv2.CAP_MSMF)  # Media Foundation 経由\n",
    "    if not cap.isOpened():\n",
    "        print(\"カメラが開けませんでした\")\n",
    "        return\n",
    "\n",
    "    # 確認したい解像度とFPSの候補\n",
    "    resolutions = [(1920,1080), (1280,720), (640,480)]\n",
    "    fps_list = [15, 30, 60, 120]\n",
    "\n",
    "    for w, h in resolutions:\n",
    "        for fps in fps_list:\n",
    "            cap.set(cv2.CAP_PROP_FRAME_WIDTH, w)\n",
    "            cap.set(cv2.CAP_PROP_FRAME_HEIGHT, h)\n",
    "            cap.set(cv2.CAP_PROP_FPS, fps)\n",
    "\n",
    "            actual_w  = cap.get(cv2.CAP_PROP_FRAME_WIDTH)\n",
    "            actual_h  = cap.get(cv2.CAP_PROP_FRAME_HEIGHT)\n",
    "            actual_fps = cap.get(cv2.CAP_PROP_FPS)\n",
    "\n",
    "            print(f\"要求: {w}x{h} @ {fps}fps → 実際: {int(actual_w)}x{int(actual_h)} @ {int(actual_fps)}fps\")\n",
    "\n",
    "    cap.release()\n",
    "\n",
    "if __name__ == \"__main__\":\n",
    "    list_camera_modes(0)  # 内蔵カメラを確認 (USBカメラなら番号を変える)"
   ]
  }
 ],
 "metadata": {
  "kernelspec": {
   "display_name": "TestProg_video",
   "language": "python",
   "name": "python3"
  },
  "language_info": {
   "codemirror_mode": {
    "name": "ipython",
    "version": 3
   },
   "file_extension": ".py",
   "mimetype": "text/x-python",
   "name": "python",
   "nbconvert_exporter": "python",
   "pygments_lexer": "ipython3",
   "version": "3.8.19"
  }
 },
 "nbformat": 4,
 "nbformat_minor": 5
}
